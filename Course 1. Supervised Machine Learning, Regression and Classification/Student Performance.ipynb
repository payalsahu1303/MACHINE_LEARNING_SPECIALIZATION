{
 "cells": [
  {
   "cell_type": "markdown",
   "id": "673d5f7f-0b6c-41ca-94e1-c4711750e8b3",
   "metadata": {},
   "source": [
    "# **Project: Student Performance Prediction & Analysis**  \n",
    "\n",
    "## **Overview**  \n",
    "This project predicts students' performance based on their academic and extracurricular activities. It involves:  \n",
    "- **Linear Regression** for score prediction  \n",
    "- **Logistic Regression** for pass/fail classification  \n",
    "- **Classification** for performance categorization  \n",
    "\n",
    "## **Objectives**  \n",
    "\n",
    "### **Linear Regression**  \n",
    "Predict the student’s final score based on:  \n",
    "✅ Study hours  \n",
    "✅ Attendance  \n",
    "✅ Previous grades  \n",
    "\n",
    "### **Logistic Regression**  \n",
    "Classify whether a student will **pass** or **fail** based on input features.  \n",
    "\n",
    "### **Classification (Decision Tree, Random Forest, or SVM)**  \n",
    "Categorize students into **performance levels**:  \n",
    "✅ **High-performing**  \n",
    "✅ **Average**  \n",
    "✅ **Low-performing**  \n"
   ]
  },
  {
   "cell_type": "markdown",
   "id": "a076e52b-627e-4b7a-815a-8d683637951d",
   "metadata": {},
   "source": [
    "### Step 1: Load and Explore the Dataset"
   ]
  },
  {
   "cell_type": "code",
   "execution_count": 16,
   "id": "1fe6cbb0-5de9-4a4c-8271-b292ffed6092",
   "metadata": {},
   "outputs": [
    {
     "name": "stdout",
     "output_type": "stream",
     "text": [
      "   Student_ID  Gender  Study_Hours  Attendance (%)  \\\n",
      "0           1    Male          2.7            55.8   \n",
      "1           2  Female          3.4            97.0   \n",
      "2           3    Male          6.9            81.4   \n",
      "3           4    Male          2.9            66.7   \n",
      "4           5    Male          1.8            57.0   \n",
      "\n",
      "   Previous_Semester_Score (%) Extracurricular_Participation  \\\n",
      "0                         83.8                           Yes   \n",
      "1                         66.5                           Yes   \n",
      "2                         46.5                           Yes   \n",
      "3                         46.9                           Yes   \n",
      "4                         77.7                           Yes   \n",
      "\n",
      "   Assignments_Completed (%)  Final_Exam_Score (%)  Pass_Fail  \\\n",
      "0                       63.1                  54.2          1   \n",
      "1                       62.3                  60.6          1   \n",
      "2                       95.3                  49.2          1   \n",
      "3                       62.5                  40.7          1   \n",
      "4                       63.6                  48.1          1   \n",
      "\n",
      "  Performance_Category  \n",
      "0              Average  \n",
      "1              Average  \n",
      "2                  Low  \n",
      "3                  Low  \n",
      "4                  Low  \n",
      "<class 'pandas.core.frame.DataFrame'>\n",
      "RangeIndex: 500 entries, 0 to 499\n",
      "Data columns (total 10 columns):\n",
      " #   Column                         Non-Null Count  Dtype  \n",
      "---  ------                         --------------  -----  \n",
      " 0   Student_ID                     500 non-null    int64  \n",
      " 1   Gender                         500 non-null    object \n",
      " 2   Study_Hours                    500 non-null    float64\n",
      " 3   Attendance (%)                 500 non-null    float64\n",
      " 4   Previous_Semester_Score (%)    500 non-null    float64\n",
      " 5   Extracurricular_Participation  500 non-null    object \n",
      " 6   Assignments_Completed (%)      500 non-null    float64\n",
      " 7   Final_Exam_Score (%)           500 non-null    float64\n",
      " 8   Pass_Fail                      500 non-null    int64  \n",
      " 9   Performance_Category           500 non-null    object \n",
      "dtypes: float64(5), int64(2), object(3)\n",
      "memory usage: 39.2+ KB\n",
      "None\n",
      "Student_ID                       0\n",
      "Gender                           0\n",
      "Study_Hours                      0\n",
      "Attendance (%)                   0\n",
      "Previous_Semester_Score (%)      0\n",
      "Extracurricular_Participation    0\n",
      "Assignments_Completed (%)        0\n",
      "Final_Exam_Score (%)             0\n",
      "Pass_Fail                        0\n",
      "Performance_Category             0\n",
      "dtype: int64\n"
     ]
    }
   ],
   "source": [
    "import numpy as np\n",
    "import pandas as pd\n",
    "\n",
    "# Load the dataset\n",
    "df = pd.read_csv(\"student_performance_dataset.csv\")\n",
    "\n",
    "# Show first few rows\n",
    "print(df.head())\n",
    "\n",
    "# Show basic information\n",
    "print(df.info())\n",
    "\n",
    "# Check for missing values\n",
    "print(df.isnull().sum())"
   ]
  },
  {
   "cell_type": "markdown",
   "id": "30302963-82e2-44c7-851b-aba350806909",
   "metadata": {},
   "source": [
    "### Step 2: Convert Categorical Data to Numbers"
   ]
  },
  {
   "cell_type": "code",
   "execution_count": 6,
   "id": "4c6500c6-f097-4090-8d94-171c1f3df75a",
   "metadata": {},
   "outputs": [
    {
     "name": "stdout",
     "output_type": "stream",
     "text": [
      "   Student_ID  Gender  Study_Hours  Attendance (%)  \\\n",
      "0           1       1          2.7            55.8   \n",
      "1           2       0          3.4            97.0   \n",
      "2           3       1          6.9            81.4   \n",
      "3           4       1          2.9            66.7   \n",
      "4           5       1          1.8            57.0   \n",
      "\n",
      "   Previous_Semester_Score (%)  Extracurricular_Participation  \\\n",
      "0                         83.8                              1   \n",
      "1                         66.5                              1   \n",
      "2                         46.5                              1   \n",
      "3                         46.9                              1   \n",
      "4                         77.7                              1   \n",
      "\n",
      "   Assignments_Completed (%)  Final_Exam_Score (%)  Pass_Fail  \\\n",
      "0                       63.1                  54.2          1   \n",
      "1                       62.3                  60.6          1   \n",
      "2                       95.3                  49.2          1   \n",
      "3                       62.5                  40.7          1   \n",
      "4                       63.6                  48.1          1   \n",
      "\n",
      "   Performance_Category  \n",
      "0                     1  \n",
      "1                     1  \n",
      "2                     0  \n",
      "3                     0  \n",
      "4                     0  \n"
     ]
    }
   ],
   "source": [
    "# Convert Gender and Extracurricular Participation to numbers\n",
    "df[\"Gender\"] = df[\"Gender\"].map({\"Male\": 1, \"Female\": 0})\n",
    "df[\"Extracurricular_Participation\"] = df[\"Extracurricular_Participation\"].map({\"Yes\": 1, \"No\": 0})\n",
    "df[\"Performance_Category\"] = df[\"Performance_Category\"].map({\"Low\": 0, \"Average\": 1, \"High\": 2})\n",
    "\n",
    "print(df.head())  # Check changes"
   ]
  },
  {
   "cell_type": "markdown",
   "id": "7dc552de-958d-4398-bbb2-9bd0725199b1",
   "metadata": {},
   "source": [
    "### Step 3: Linear Regression - Predict Final Exam Scores"
   ]
  },
  {
   "cell_type": "code",
   "execution_count": 35,
   "id": "3827f17d-92ff-4fd0-a011-a64942cba407",
   "metadata": {},
   "outputs": [
    {
     "name": "stdout",
     "output_type": "stream",
     "text": [
      "Linear Regression RMSE: 4.45\n"
     ]
    }
   ],
   "source": [
    "# Select features\n",
    "X = df[[\"Study_Hours\", \"Attendance (%)\", \"Previous_Semester_Score (%)\", \"Assignments_Completed (%)\"]].values\n",
    "y = df[\"Final_Exam_Score (%)\"].values\n",
    "\n",
    "# Split data manually (80% train, 20% test)\n",
    "split_idx = int(0.8 * len(X))\n",
    "X_train, X_test = X[:split_idx], X[split_idx:]\n",
    "y_train, y_test = y[:split_idx], y[split_idx:]\n",
    "\n",
    "# Add bias term (column of 1s) for the intercept\n",
    "X_train = np.c_[np.ones(X_train.shape[0]), X_train]  # Adding column of 1s\n",
    "X_test = np.c_[np.ones(X_test.shape[0]), X_test]  \n",
    "\n",
    "# Train the model using Normal Equation: θ = (XᵀX)⁻¹Xᵀy\n",
    "theta = np.linalg.inv(X_train.T @ X_train) @ X_train.T @ y_train\n",
    "\n",
    "# Predict on test set\n",
    "y_pred = X_test @ theta  \n",
    "\n",
    "# Compute RMSE manually\n",
    "rmse = np.sqrt(np.mean((y_test - y_pred) ** 2))\n",
    "print(f\"Linear Regression RMSE: {rmse:.2f}\")"
   ]
  },
  {
   "cell_type": "markdown",
   "id": "cd2e1fb8-df0b-468b-be4e-da537c1796d3",
   "metadata": {},
   "source": [
    "### Step 4: Logistic Regression - Predict Pass/Fail"
   ]
  },
  {
   "cell_type": "code",
   "execution_count": 18,
   "id": "49a28f71-c1ea-403b-ad50-dcc35e67b16e",
   "metadata": {},
   "outputs": [
    {
     "name": "stdout",
     "output_type": "stream",
     "text": [
      "Logistic Regression Accuracy: 90.00%\n"
     ]
    }
   ],
   "source": [
    "# Select features and target variable\n",
    "X = df[[\"Study_Hours\", \"Attendance (%)\", \"Previous_Semester_Score (%)\", \"Assignments_Completed (%)\"]].values\n",
    "y = df[\"Pass_Fail\"].values  # Assuming 1 = Pass, 0 = Fail\n",
    "\n",
    "# Split data manually (80% train, 20% test)\n",
    "split_idx = int(0.8 * len(X))\n",
    "X_train, X_test = X[:split_idx], X[split_idx:]\n",
    "y_train, y_test = y[:split_idx], y[split_idx:]\n",
    "\n",
    "# Add bias term (column of 1s)\n",
    "X_train = np.c_[np.ones(X_train.shape[0]), X_train]\n",
    "X_test = np.c_[np.ones(X_test.shape[0]), X_test]\n",
    "\n",
    "# Sigmoid function\n",
    "def sigmoid(z):\n",
    "    return 1 / (1 + np.exp(-z))\n",
    "\n",
    "# Initialize parameters\n",
    "theta = np.zeros(X_train.shape[1])\n",
    "learning_rate = 0.01\n",
    "epochs = 1000\n",
    "\n",
    "# Train model using Gradient Descent\n",
    "for _ in range(epochs):\n",
    "    z = np.dot(X_train, theta)\n",
    "    h = sigmoid(z)\n",
    "    gradient = np.dot(X_train.T, (h - y_train)) / len(y_train)\n",
    "    theta -= learning_rate * gradient  # Update parameters\n",
    "\n",
    "# Predict function\n",
    "def predict(X, theta):\n",
    "    return (sigmoid(np.dot(X, theta)) >= 0.5).astype(int)\n",
    "\n",
    "# Predict on test data\n",
    "y_pred = predict(X_test, theta)\n",
    "\n",
    "# Compute accuracy manually\n",
    "accuracy = np.mean(y_pred == y_test) * 100\n",
    "print(f\"Logistic Regression Accuracy: {accuracy:.2f}%\")\n"
   ]
  },
  {
   "cell_type": "markdown",
   "id": "e8ab3988-ee67-45f1-9c27-fd404ec46f43",
   "metadata": {},
   "source": [
    "### Step 5: Classification - Categorize Student Performance"
   ]
  },
  {
   "cell_type": "code",
   "execution_count": 31,
   "id": "74c8b458-fb3d-48d6-b094-d2bf884af15c",
   "metadata": {},
   "outputs": [
    {
     "name": "stdout",
     "output_type": "stream",
     "text": [
      "Classification Model Accuracy: 75.00%\n"
     ]
    }
   ],
   "source": [
    "from sklearn.model_selection import train_test_split\n",
    "from sklearn.tree import DecisionTreeClassifier\n",
    "from sklearn.metrics import accuracy_score\n",
    "import pandas as pd\n",
    "\n",
    "# Load dataset\n",
    "df = pd.read_csv(\"student_performance_dataset.csv\")\n",
    "\n",
    "# Select features and target\n",
    "X = df[[\"Study_Hours\", \"Attendance (%)\", \"Previous_Semester_Score (%)\", \"Assignments_Completed (%)\"]]\n",
    "y = df[\"Performance_Category\"]\n",
    "\n",
    "# Split data\n",
    "X_train, X_test, y_train, y_test = train_test_split(X, y, test_size=0.2, random_state=42)\n",
    "\n",
    "# Train model\n",
    "classifier = DecisionTreeClassifier()\n",
    "classifier.fit(X_train, y_train)\n",
    "\n",
    "# Predict and evaluate\n",
    "y_pred = classifier.predict(X_test)\n",
    "accuracy = accuracy_score(y_test, y_pred)\n",
    "print(f\"Classification Model Accuracy: {accuracy:.2%}\")\n"
   ]
  },
  {
   "cell_type": "markdown",
   "id": "e05e5231-5a6b-4c8b-b527-f6fbff28ffe8",
   "metadata": {},
   "source": [
    "### Step 6: Simple Visualization"
   ]
  },
  {
   "cell_type": "code",
   "execution_count": 38,
   "id": "2b84d101-66d7-41db-931a-32638c0fe730",
   "metadata": {},
   "outputs": [
    {
     "data": {
      "image/png": "[encoded data removed]",
      "text/plain": [
       "<Figure size 640x480 with 1 Axes>"
      ]
     },
     "metadata": {},
     "output_type": "display_data"
    }
   ],
   "source": [
    "import matplotlib.pyplot as plt\n",
    "\n",
    "# Scatter plot for actual vs predicted scores\n",
    "plt.scatter(y_test, y_pred, alpha=0.5)\n",
    "plt.xlabel(\"Actual Scores\")\n",
    "plt.ylabel(\"Predicted Scores\")\n",
    "plt.title(\"Actual vs Predicted Final Scores\")\n",
    "plt.show()"
   ]
  },
  {
   "cell_type": "code",
   "execution_count": 42,
   "id": "9bb6ed22-461f-4f3d-9860-77f34220344a",
   "metadata": {},
   "outputs": [
    {
     "name": "stdin",
     "output_type": "stream",
     "text": [
      "Enter Study Hours:  2.9\n",
      "Enter Attendance %:  95\n",
      "Enter Previous Score %:  89.5\n",
      "Enter Assignments Completed %:  89\n"
     ]
    },
    {
     "name": "stdout",
     "output_type": "stream",
     "text": [
      "The predicted Final Exam Score is: 237.15\n"
     ]
    }
   ],
   "source": [
    "\n",
    "# Simulating a trained model (replace with your actual trained model)\n",
    "class DummyLinearModel:\n",
    "    def predict(self, X):\n",
    "        return np.dot(X, [50, 0.5, 0.3, 0.2])  # Simple model\n",
    "\n",
    "# Initialize model (replace with your actual model)\n",
    "model = DummyLinearModel()\n",
    "\n",
    "# Collect user input and format it\n",
    "user_input = np.array([float(input(f\"Enter {feature}: \")) for feature in \n",
    "                       [\"Study Hours\", \"Attendance %\", \"Previous Score %\", \"Assignments Completed %\"]]).reshape(1, -1)\n",
    "\n",
    "# Make prediction and display result\n",
    "predicted_score = model.predict(user_input)\n",
    "print(f\"The predicted Final Exam Score is: {predicted_score[0]:.2f}\")\n"
   ]
  },
  {
   "cell_type": "code",
   "execution_count": 44,
   "id": "73c3769c-cc59-4284-9c68-0f04fd7a9ae3",
   "metadata": {},
   "outputs": [
    {
     "name": "stdin",
     "output_type": "stream",
     "text": [
      "Enter Study Hours:  2.9\n",
      "Enter Attendance Percentage:  75\n",
      "Enter Previous Semester Score:  85\n",
      "Enter Assignments Completed Percentage:  70\n"
     ]
    },
    {
     "name": "stdout",
     "output_type": "stream",
     "text": [
      "The predicted result is: Pass\n"
     ]
    }
   ],
   "source": [
    "# Example trained Logistic Regression model (replace this with your actual model)\n",
    "class DummyLogisticModel:\n",
    "    def predict(self, X):\n",
    "        return [1 if sum(X[0]) > 100 else 0]  # Dummy logic: pass if sum > 100\n",
    "\n",
    "# Simulating a trained model (replace with your actual trained model)\n",
    "model = DummyLogisticModel()\n",
    "\n",
    "# Collecting user input\n",
    "study_hours = float(input(\"Enter Study Hours: \"))\n",
    "attendance = float(input(\"Enter Attendance Percentage: \"))\n",
    "previous_score = float(input(\"Enter Previous Semester Score: \"))\n",
    "assignments_completed = float(input(\"Enter Assignments Completed Percentage: \"))\n",
    "\n",
    "# Preprocessing the input (make sure to scale/format it as needed)\n",
    "user_input = np.array([study_hours, attendance, previous_score, assignments_completed]).reshape(1, -1)\n",
    "\n",
    "# Making prediction with the trained model\n",
    "prediction = model.predict(user_input)\n",
    "result = \"Pass\" if prediction[0] == 1 else \"Fail\"\n",
    "print(f\"The predicted result is: {result}\")\n"
   ]
  },
  {
   "cell_type": "code",
   "execution_count": 46,
   "id": "9bce286a-c0bf-479f-a952-3b786da31e1f",
   "metadata": {},
   "outputs": [
    {
     "name": "stdin",
     "output_type": "stream",
     "text": [
      "Enter Study Hours:  55\n",
      "Enter Attendance Percentage:  40\n",
      "Enter Previous Semester Score:  53\n",
      "Enter Assignments Completed Percentage:  42\n"
     ]
    },
    {
     "name": "stdout",
     "output_type": "stream",
     "text": [
      "The predicted performance category is: Low\n"
     ]
    }
   ],
   "source": [
    "# Example trained classifier model (replace with your actual model)\n",
    "class DummyClassifier:\n",
    "    def predict(self, X):\n",
    "        # Simple logic: If sum of features > threshold, classify as \"High\", else \"Low\"\n",
    "        return [\"High\" if sum(X[0]) > 200 else \"Low\"]\n",
    "\n",
    "# Simulating a trained model (replace with your actual trained model)\n",
    "model = DummyClassifier()\n",
    "\n",
    "# Collecting user input\n",
    "study_hours = float(input(\"Enter Study Hours: \"))\n",
    "attendance = float(input(\"Enter Attendance Percentage: \"))\n",
    "previous_score = float(input(\"Enter Previous Semester Score: \"))\n",
    "assignments_completed = float(input(\"Enter Assignments Completed Percentage: \"))\n",
    "\n",
    "# Preprocessing the input (make sure to scale/format it as needed)\n",
    "user_input = np.array([study_hours, attendance, previous_score, assignments_completed]).reshape(1, -1)\n",
    "\n",
    "# Making prediction with the trained model\n",
    "prediction = model.predict(user_input)\n",
    "print(f\"The predicted performance category is: {prediction[0]}\")\n"
   ]
  }
 ],
 "metadata": {
  "kernelspec": {
   "display_name": "Python [conda env:base] *",
   "language": "python",
   "name": "conda-base-py"
  },
  "language_info": {
   "codemirror_mode": {
    "name": "ipython",
    "version": 3
   },
   "file_extension": ".py",
   "mimetype": "text/x-python",
   "name": "python",
   "nbconvert_exporter": "python",
   "pygments_lexer": "ipython3",
   "version": "3.12.7"
  }
 },
 "nbformat": 4,
 "nbformat_minor": 5
}
